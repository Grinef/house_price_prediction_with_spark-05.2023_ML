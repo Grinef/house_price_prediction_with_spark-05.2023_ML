{
 "cells": [
  {
   "cell_type": "markdown",
   "id": "GEqQaHzsZ_bA",
   "metadata": {
    "id": "GEqQaHzsZ_bA"
   },
   "source": [
    "## Предсказание стоимости жилья\n",
    "\n",
    "В проекте вам нужно обучить модель линейной регрессии на данных о жилье в Калифорнии в 1990 году. На основе данных нужно предсказать медианную стоимость дома в жилом массиве. Обучите модель и сделайте предсказания на тестовой выборке. Для оценки качества модели используйте метрики RMSE, MAE и R2."
   ]
  },
  {
   "cell_type": "markdown",
   "id": "b1a9a79f",
   "metadata": {},
   "source": [
    "### Импорт библиотек"
   ]
  },
  {
   "cell_type": "code",
   "execution_count": 1,
   "id": "f44a41d9",
   "metadata": {},
   "outputs": [],
   "source": [
    "%%capture\n",
    "!pip install missingno"
   ]
  },
  {
   "cell_type": "code",
   "execution_count": 2,
   "id": "fbaae0f8",
   "metadata": {},
   "outputs": [],
   "source": [
    "import pandas as pd\n",
    "import numpy as np\n",
    "from pyspark.sql import SparkSession\n",
    "\n",
    "from pyspark.ml import Pipeline\n",
    "from pyspark.ml.feature import Imputer, OneHotEncoder, StandardScaler, VectorAssembler, StringIndexer\n",
    "\n",
    "from pyspark.ml.regression import LinearRegression\n",
    "from pyspark.ml.evaluation import RegressionEvaluator\n",
    "from pyspark.ml.tuning import ParamGridBuilder, TrainValidationSplit\n",
    "\n",
    "import warnings\n",
    "warnings.filterwarnings('ignore')\n",
    "\n",
    "RANDOM_SEED = 42"
   ]
  },
  {
   "cell_type": "markdown",
   "id": "52c04ccc",
   "metadata": {},
   "source": [
    "### Инциализация Spark-сессии"
   ]
  },
  {
   "cell_type": "code",
   "execution_count": 3,
   "id": "a02e9048",
   "metadata": {},
   "outputs": [
    {
     "name": "stderr",
     "output_type": "stream",
     "text": [
      "23/05/20 08:17:15 WARN Utils: Service 'SparkUI' could not bind on port 4040. Attempting port 4041.\n"
     ]
    }
   ],
   "source": [
    "# инциализируем спарк-сессию, без ограничений по кол-ву используемых процессоров\n",
    "spark = SparkSession.builder \\\n",
    "    .master('local[*]') \\\n",
    "    .appName('House_price_predict_regressions') \\\n",
    "    .getOrCreate()"
   ]
  },
  {
   "cell_type": "markdown",
   "id": "8bf79e2f",
   "metadata": {},
   "source": [
    "### Загрузка данных"
   ]
  },
  {
   "cell_type": "code",
   "execution_count": 7,
   "id": "67f66bfa",
   "metadata": {
    "scrolled": true
   },
   "outputs": [
    {
     "name": "stdout",
     "output_type": "stream",
     "text": [
      "Предоставленные типы данных:\n",
      "root\n",
      " |-- longitude: double (nullable = true)\n",
      " |-- latitude: double (nullable = true)\n",
      " |-- housing_median_age: double (nullable = true)\n",
      " |-- total_rooms: double (nullable = true)\n",
      " |-- total_bedrooms: double (nullable = true)\n",
      " |-- population: double (nullable = true)\n",
      " |-- households: double (nullable = true)\n",
      " |-- median_income: double (nullable = true)\n",
      " |-- median_house_value: double (nullable = true)\n",
      " |-- ocean_proximity: string (nullable = true)\n",
      "\n",
      "Всего строк данных - 20640\n"
     ]
    }
   ],
   "source": [
    "data = (spark\n",
    "        .read\n",
    "        .options(inferSchema=True, header='true')\n",
    "        .csv('/datasets/housing.csv') \n",
    "        .repartition(16)) # разделим данные на 16 частей, потому что у нас 16 ядер процессора\n",
    "\n",
    "print('Предоставленные типы данных:')\n",
    "data.printSchema()\n",
    "\n",
    "# выведим кол-во данных  \n",
    "print('Всего строк данных -', data.count())              "
   ]
  },
  {
   "cell_type": "markdown",
   "id": "53871372",
   "metadata": {
    "id": "53871372"
   },
   "source": [
    "# Подготовка данных"
   ]
  },
  {
   "cell_type": "code",
   "execution_count": 8,
   "id": "455ed353",
   "metadata": {},
   "outputs": [],
   "source": [
    "data_train_to_preprocessing, data_test_to_preprocessings = (data\n",
    "                                         .randomSplit([.8,.2], seed=RANDOM_SEED))\n",
    "\n",
    "numeric_cols = data.columns[:-1]\n",
    "numeric_cols.remove('median_house_value')\n",
    "\n",
    "target = 'median_house_value'\n",
    "categorical_cols = [data.columns[-1]]\n",
    "\n",
    "# Создаем Imputer для заполнения пропущенных значений медианой\n",
    "imputer = Imputer(\n",
    "            inputCols=numeric_cols,\n",
    "            outputCols=[\"{}_imputed\".format(c) for c in numeric_cols]\n",
    "          ).setStrategy(\"median\")\n",
    "\n",
    "# Создаем StringIndexer для преобразования категориальных признаков в числовые\n",
    "indexer = StringIndexer(inputCol=categorical_cols[0],\n",
    "                        outputCol=categorical_cols[0]+'_idx').setHandleInvalid(\"keep\")\n",
    "\n",
    "# Создаем VectorAssembler для объединения числовых признаков в один вектор\n",
    "numerical_assembler = VectorAssembler(inputCols=[\"{}_imputed\".format(c) for c in numeric_cols],\n",
    "                                      outputCol=\"numerical_features\")\n",
    "\n",
    "# Создаем StandardScaler для стандартизации числовых признаков\n",
    "scaler = StandardScaler(inputCol=\"numerical_features\",\n",
    "                        outputCol=\"scaled_numerical_features\",\n",
    "                        withStd=True, withMean=True)\n",
    "\n",
    "# Создаем OneHotEncoder для кодирования категориальных признаков\n",
    "encoder = OneHotEncoder(inputCols=[categorical_cols[0]+'_idx'],\n",
    "                        outputCols=[categorical_cols[0]+'_ohe'])\n",
    "\n",
    "# Векторизуем категориальные признаки\n",
    "categorical_assembler = VectorAssembler(inputCols=[categorical_cols[0]+'_ohe'],\n",
    "                                        outputCol=\"categorical_features\")\n",
    "\n",
    "# Создаем VectorAssembler для объединения закодированных категориальных признаков и стандартизированных числовых признаков в один вектор\n",
    "final_assembler = VectorAssembler(inputCols=[\"categorical_features\", \"scaled_numerical_features\"],\n",
    "                                  outputCol=\"features\")\n",
    "\n",
    "# Объединяем все шаги в единый пайплайн\n",
    "pipeline = Pipeline(stages=[imputer, indexer, numerical_assembler, scaler, encoder, categorical_assembler, final_assembler])"
   ]
  },
  {
   "cell_type": "code",
   "execution_count": 9,
   "id": "1400b8dd",
   "metadata": {},
   "outputs": [
    {
     "name": "stderr",
     "output_type": "stream",
     "text": [
      "                                                                                \r"
     ]
    }
   ],
   "source": [
    "# обучим пайплайн на тренировочной выборке и приемним к тренировочной и тестовой\n",
    "model = pipeline.fit(data_train_to_preprocessing)\n",
    "data_train_preprossed = model.transform(data_train_to_preprocessing).select(\"scaled_numerical_features\", \"median_house_value\", \"features\")\n",
    "data_test_preprossed = model.transform(data_test_to_preprocessings).select(\"scaled_numerical_features\", \"median_house_value\", \"features\")"
   ]
  },
  {
   "cell_type": "code",
   "execution_count": 10,
   "id": "2cd70650",
   "metadata": {},
   "outputs": [],
   "source": [
    "# соединим тренировочку и тестовую выборки\n",
    "data = data_train_preprossed.unionAll(data_test_preprossed)"
   ]
  },
  {
   "cell_type": "code",
   "execution_count": 11,
   "id": "a56e5472",
   "metadata": {
    "scrolled": true
   },
   "outputs": [
    {
     "name": "stderr",
     "output_type": "stream",
     "text": [
      "[Stage 30:===========================================>            (25 + 1) / 32]\r"
     ]
    },
    {
     "name": "stdout",
     "output_type": "stream",
     "text": [
      "16537 4103\n"
     ]
    },
    {
     "name": "stderr",
     "output_type": "stream",
     "text": [
      "                                                                                \r"
     ]
    }
   ],
   "source": [
    "# создадим объекты для обучения, включающие только числовые признаки\n",
    "train_data_numeric, test_data_numeric = (data\n",
    "                                         .select('scaled_numerical_features', 'median_house_value')\n",
    "                                         .randomSplit([.8,.2], seed=RANDOM_SEED))\n",
    "\n",
    "print(train_data_numeric.count(), test_data_numeric.count()) "
   ]
  },
  {
   "cell_type": "code",
   "execution_count": 12,
   "id": "ede50552",
   "metadata": {},
   "outputs": [
    {
     "name": "stderr",
     "output_type": "stream",
     "text": [
      "[Stage 36:======================================================> (31 + 1) / 32]\r"
     ]
    },
    {
     "name": "stdout",
     "output_type": "stream",
     "text": [
      "16537 4103\n"
     ]
    },
    {
     "name": "stderr",
     "output_type": "stream",
     "text": [
      "                                                                                \r"
     ]
    }
   ],
   "source": [
    "# создадим дополнительный объекты для обучения, включающие и числовые и категориальные признаки\n",
    "train_data, test_data = (data\n",
    "                         .select(\"features\", 'median_house_value')\n",
    "                         .randomSplit([.8,.2], seed=RANDOM_SEED))\n",
    "\n",
    "print(train_data.count(), test_data.count()) "
   ]
  },
  {
   "cell_type": "markdown",
   "id": "9f0a82f3",
   "metadata": {
    "id": "9f0a82f3"
   },
   "source": [
    "# Обучение моделей"
   ]
  },
  {
   "cell_type": "code",
   "execution_count": 13,
   "id": "fb22cbdf",
   "metadata": {},
   "outputs": [
    {
     "name": "stderr",
     "output_type": "stream",
     "text": [
      "23/05/20 08:19:06 WARN BLAS: Failed to load implementation from: com.github.fommil.netlib.NativeSystemBLAS\n",
      "23/05/20 08:19:06 WARN BLAS: Failed to load implementation from: com.github.fommil.netlib.NativeRefBLAS\n",
      "23/05/20 08:19:07 WARN LAPACK: Failed to load implementation from: com.github.fommil.netlib.NativeSystemLAPACK\n",
      "23/05/20 08:19:07 WARN LAPACK: Failed to load implementation from: com.github.fommil.netlib.NativeRefLAPACK\n",
      "                                                                                \r"
     ]
    },
    {
     "name": "stdout",
     "output_type": "stream",
     "text": [
      "Results for all features:\n",
      "RMSE: 68621.40670562946\n",
      "MAE: 49863.62712955019\n",
      "R^2: 0.6308764834999265\n"
     ]
    },
    {
     "name": "stderr",
     "output_type": "stream",
     "text": [
      "                                                                                \r"
     ]
    },
    {
     "name": "stdout",
     "output_type": "stream",
     "text": [
      "Results for only numerical features:\n",
      "RMSE: 72285.74027976584\n",
      "MAE: 52447.10177271138\n",
      "R^2: 0.6191282157677731\n"
     ]
    }
   ],
   "source": [
    "# Инициализация переменных для хранения лучших значений метрик и модели\n",
    "best_rmse = 10**10\n",
    "best_mae = 10**10\n",
    "best_r2 = -10\n",
    "best_model = None, None\n",
    "type_trainig = None\n",
    "\n",
    "# Используем два датасета для обучения модели: с использованием всех признаков и только числовых признаков\n",
    "train_dfs = [train_data, train_data_numeric]\n",
    "test_dfs = [test_data, test_data_numeric]\n",
    "\n",
    "# Список метрик, которые будем использовать для оценки модели\n",
    "metrics = [\"rmse\", \"mae\", \"r2\"]\n",
    "\n",
    "# Проходимся по каждому датасету для обучения модели\n",
    "for i, (train, test) in enumerate(zip(train_dfs, test_dfs)):\n",
    "    # Обучение модели с использованием всех признаков\n",
    "    if i == 0:\n",
    "        lr = LinearRegression(labelCol=target, featuresCol=\"features\")\n",
    "\n",
    "    # Обучение модели только на числовых признаках\n",
    "    if i == 1:\n",
    "        lr = LinearRegression(labelCol=target, featuresCol=\"scaled_numerical_features\")\n",
    "    \n",
    "    # Определяем сетку гиперпараметров для перебора\n",
    "    paramGrid = ParamGridBuilder() \\\n",
    "        .addGrid(lr.regParam, [0.1, 0.01]) \\\n",
    "        .addGrid(lr.elasticNetParam, [0.0, 0.1, 0.5, 1.0]) \\\n",
    "        .build()\n",
    "\n",
    "    # Инициализация TrainValidationSplit для кросс-валидации и выбора лучших гиперпараметров\n",
    "    tvs = TrainValidationSplit(estimator=lr,\n",
    "                               estimatorParamMaps=paramGrid,\n",
    "                               evaluator=RegressionEvaluator(labelCol=\"median_house_value\", predictionCol=\"prediction\", metricName=\"rmse\"),\n",
    "                               trainRatio=0.8)\n",
    "\n",
    "    # Обучение модели и выбор наилучшего набора гиперпараметров\n",
    "    model = tvs.fit(train)\n",
    "\n",
    "    # Получение предсказаний на тестовых данных\n",
    "    predictions = model.transform(test)\n",
    "\n",
    "    # Получение метрик на тестовых данных\n",
    "    metrics_dict = {}\n",
    "    for metric in metrics:\n",
    "        evaluator = RegressionEvaluator(labelCol=\"median_house_value\", predictionCol=\"prediction\", metricName=metric)\n",
    "        metric_value = evaluator.evaluate(predictions)\n",
    "        metrics_dict[metric] = metric_value\n",
    "\n",
    "    # Сохраняем лучшую модель и метрики\n",
    "    if metrics_dict[\"rmse\"] < best_rmse and metrics_dict[\"mae\"] < best_mae and metrics_dict[\"r2\"] > best_r2:\n",
    "        best_rmse = metrics_dict[\"rmse\"]\n",
    "        best_mae = metrics_dict[\"mae\"]\n",
    "        best_r2 = metrics_dict[\"r2\"]\n",
    "        best_model = lr, model\n",
    "        type_trainig = 'модель была обучена на всех признаков' if i == 0 else 'модель была обучена только на числовых признаков'\n",
    "\n",
    "    print(f\"Results for {'all features' if i == 0 else 'only numerical features'}:\")\n",
    "    print(f\"RMSE: {metrics_dict['rmse']}\")\n",
    "    print(f\"MAE: {metrics_dict['mae']}\")\n",
    "    print(f\"R^2: {metrics_dict['r2']}\")\n",
    "\n",
    "spark.stop()"
   ]
  },
  {
   "cell_type": "markdown",
   "id": "757fd103",
   "metadata": {
    "id": "757fd103"
   },
   "source": [
    "# Анализ результатов"
   ]
  },
  {
   "cell_type": "code",
   "execution_count": 11,
   "id": "39571928",
   "metadata": {},
   "outputs": [
    {
     "name": "stdout",
     "output_type": "stream",
     "text": [
      "\n",
      "Процесс выполнения проекта состоял из нескольких частей:\n",
      "    1) предобработка данных:\n",
      "        1.1. Индексация категориальных переменных;\n",
      "        1.2. Очистка от пропусков путём подставления медианного значения для числовых переменных;\n",
      "        1.3. Векторизация числовых переменных;\n",
      "        1.4. Станадртизация числовых, векторизованных переменных;\n",
      "        1.5. Кодировка категориальных переменных - OHE;\n",
      "        1.6. Векторизация категориальных переменных;\n",
      "        1.7. Сведение категориальных и числовых переменных в единый фрейм.\n",
      "    \n",
      "    2) разделение признаков на 2 обучающие и тестовые группы:\n",
      "        1.1. Содержащая все признаки;\n",
      "        1.2. Содержащая только числовые признаки.\n",
      "        \n",
      "    3) Обучение модели и выбор лучшей модели.\n",
      "        1.1. Модели были обучены на 2-х фреймах, из пункта 2.\n",
      "        1.2. Был реализован подбор лучший параметров и кросс-валидация, с целью - избежать переобучения модели\n",
      "    \n",
      "    В результате обучения - лучшей моделью стала модель (LinearRegression_f9123d09bbc8, TrainValidationSplitModel_8acaaf0a8c32)\n",
      "    У этой модели, с такими результатами предпобработки получились следующие метрики качества::\n",
      "        rmse - 68624\n",
      "        mae - 49863\n",
      "        best_r2 - 0.63\n",
      "    При этом модель была обучена на всех признаков.\n",
      "\n"
     ]
    }
   ],
   "source": [
    "print(f'''\n",
    "Процесс выполнения проекта состоял из нескольких частей:\n",
    "    1) предобработка данных:\n",
    "        1.1. Индексация категориальных переменных;\n",
    "        1.2. Очистка от пропусков путём подставления медианного значения для числовых переменных;\n",
    "        1.3. Векторизация числовых переменных;\n",
    "        1.4. Станадртизация числовых, векторизованных переменных;\n",
    "        1.5. Кодировка категориальных переменных - OHE;\n",
    "        1.6. Векторизация категориальных переменных;\n",
    "        1.7. Сведение категориальных и числовых переменных в единый фрейм.\n",
    "    \n",
    "    2) разделение признаков на 2 обучающие и тестовые группы:\n",
    "        1.1. Содержащая все признаки;\n",
    "        1.2. Содержащая только числовые признаки.\n",
    "        \n",
    "    3) Обучение модели и выбор лучшей модели.\n",
    "        1.1. Модели были обучены на 2-х фреймах, из пункта 2.\n",
    "        1.2. Был реализован подбор лучший параметров и кросс-валидация, с целью - избежать переобучения модели\n",
    "    \n",
    "    В результате обучения - лучшей моделью стала модель {best_model}\n",
    "    У этой модели, с такими результатами предпобработки получились следующие метрики качества::\n",
    "        rmse - {round(best_rmse)}\n",
    "        mae - {round(best_mae)}\n",
    "        best_r2 - {round(best_r2, 2)}\n",
    "    При этом {type_trainig}.\n",
    "''')"
   ]
  }
 ],
 "metadata": {
  "ExecuteTimeLog": [
   {
    "duration": 21596,
    "start_time": "2023-05-11T15:23:44.019Z"
   },
   {
    "duration": 3,
    "start_time": "2023-05-11T15:25:04.129Z"
   },
   {
    "duration": 72,
    "start_time": "2023-05-11T15:25:22.756Z"
   },
   {
    "duration": 62,
    "start_time": "2023-05-11T15:25:36.133Z"
   },
   {
    "duration": 99,
    "start_time": "2023-05-11T15:25:48.048Z"
   },
   {
    "duration": 21,
    "start_time": "2023-05-11T15:27:16.643Z"
   },
   {
    "duration": 2,
    "start_time": "2023-05-11T15:28:09.541Z"
   },
   {
    "duration": 3,
    "start_time": "2023-05-11T15:28:11.428Z"
   },
   {
    "duration": 9,
    "start_time": "2023-05-11T15:28:58.725Z"
   },
   {
    "duration": 8,
    "start_time": "2023-05-11T15:29:15.552Z"
   },
   {
    "duration": 62,
    "start_time": "2023-05-11T15:29:24.310Z"
   },
   {
    "duration": 7,
    "start_time": "2023-05-11T15:29:30.150Z"
   },
   {
    "duration": 7,
    "start_time": "2023-05-11T15:29:37.271Z"
   },
   {
    "duration": 8,
    "start_time": "2023-05-11T15:30:11.953Z"
   },
   {
    "duration": 8,
    "start_time": "2023-05-11T15:30:43.974Z"
   },
   {
    "duration": 10,
    "start_time": "2023-05-11T15:31:01.777Z"
   },
   {
    "duration": 4,
    "start_time": "2023-05-11T15:31:33.284Z"
   },
   {
    "duration": 19,
    "start_time": "2023-05-11T15:31:38.022Z"
   },
   {
    "duration": 8,
    "start_time": "2023-05-11T15:31:46.358Z"
   },
   {
    "duration": 14,
    "start_time": "2023-05-11T15:31:52.418Z"
   },
   {
    "duration": 5,
    "start_time": "2023-05-11T15:31:55.073Z"
   },
   {
    "duration": 6,
    "start_time": "2023-05-11T15:32:00.921Z"
   },
   {
    "duration": 7,
    "start_time": "2023-05-11T15:32:05.521Z"
   },
   {
    "duration": 14,
    "start_time": "2023-05-11T15:32:26.306Z"
   },
   {
    "duration": 12,
    "start_time": "2023-05-11T15:32:26.999Z"
   },
   {
    "duration": 10,
    "start_time": "2023-05-11T15:33:23.125Z"
   },
   {
    "duration": 24,
    "start_time": "2023-05-11T15:33:25.798Z"
   },
   {
    "duration": 10,
    "start_time": "2023-05-11T15:33:34.245Z"
   },
   {
    "duration": 24,
    "start_time": "2023-05-11T15:33:45.899Z"
   },
   {
    "duration": 21,
    "start_time": "2023-05-11T15:33:51.607Z"
   },
   {
    "duration": 8,
    "start_time": "2023-05-11T15:34:10.138Z"
   },
   {
    "duration": 539,
    "start_time": "2023-05-11T15:34:24.829Z"
   },
   {
    "duration": 12,
    "start_time": "2023-05-11T15:34:29.881Z"
   },
   {
    "duration": 7,
    "start_time": "2023-05-11T15:35:56.043Z"
   },
   {
    "duration": 363,
    "start_time": "2023-05-11T15:36:00.283Z"
   },
   {
    "duration": 8,
    "start_time": "2023-05-11T15:36:04.191Z"
   },
   {
    "duration": 166,
    "start_time": "2023-05-11T15:36:18.900Z"
   },
   {
    "duration": 406,
    "start_time": "2023-05-11T15:36:20.840Z"
   },
   {
    "duration": 4,
    "start_time": "2023-05-11T15:36:28.222Z"
   },
   {
    "duration": 73,
    "start_time": "2023-05-11T15:37:10.785Z"
   },
   {
    "duration": 74,
    "start_time": "2023-05-11T15:39:54.462Z"
   },
   {
    "duration": 9,
    "start_time": "2023-05-11T15:39:58.940Z"
   },
   {
    "duration": 5,
    "start_time": "2023-05-11T15:40:16.522Z"
   },
   {
    "duration": 5,
    "start_time": "2023-05-11T15:41:48.891Z"
   },
   {
    "duration": 142,
    "start_time": "2023-05-11T15:43:46.445Z"
   },
   {
    "duration": 215,
    "start_time": "2023-05-11T15:45:33.005Z"
   },
   {
    "duration": 8,
    "start_time": "2023-05-11T15:45:53.162Z"
   },
   {
    "duration": 5,
    "start_time": "2023-05-11T15:45:57.879Z"
   },
   {
    "duration": 3271,
    "start_time": "2023-05-11T15:45:58.506Z"
   },
   {
    "duration": 336,
    "start_time": "2023-05-11T15:46:28.837Z"
   },
   {
    "duration": 452,
    "start_time": "2023-05-11T15:46:36.970Z"
   },
   {
    "duration": 6276,
    "start_time": "2023-05-11T15:46:49.785Z"
   },
   {
    "duration": 1593,
    "start_time": "2023-05-11T15:47:06.722Z"
   },
   {
    "duration": 593,
    "start_time": "2023-05-11T15:47:19.741Z"
   },
   {
    "duration": 661,
    "start_time": "2023-05-11T15:47:30.861Z"
   },
   {
    "duration": 499,
    "start_time": "2023-05-11T15:47:36.124Z"
   },
   {
    "duration": 530,
    "start_time": "2023-05-11T15:47:47.186Z"
   },
   {
    "duration": 462,
    "start_time": "2023-05-11T15:48:34.085Z"
   },
   {
    "duration": 421,
    "start_time": "2023-05-11T15:50:32.834Z"
   },
   {
    "duration": 398,
    "start_time": "2023-05-11T15:51:56.257Z"
   },
   {
    "duration": 2237,
    "start_time": "2023-05-11T15:52:45.007Z"
   },
   {
    "duration": 5,
    "start_time": "2023-05-11T15:54:39.609Z"
   },
   {
    "duration": 4,
    "start_time": "2023-05-11T15:54:40.446Z"
   },
   {
    "duration": 1110,
    "start_time": "2023-05-11T15:54:41.205Z"
   },
   {
    "duration": 34,
    "start_time": "2023-05-11T15:55:35.495Z"
   },
   {
    "duration": 32,
    "start_time": "2023-05-11T15:55:39.318Z"
   },
   {
    "duration": 1015,
    "start_time": "2023-05-11T15:56:10.118Z"
   },
   {
    "duration": 992,
    "start_time": "2023-05-11T15:56:25.950Z"
   },
   {
    "duration": 928,
    "start_time": "2023-05-11T15:56:49.188Z"
   },
   {
    "duration": 930,
    "start_time": "2023-05-11T15:57:02.090Z"
   },
   {
    "duration": 952,
    "start_time": "2023-05-11T15:57:06.589Z"
   },
   {
    "duration": 9,
    "start_time": "2023-05-11T15:58:43.516Z"
   },
   {
    "duration": 2928,
    "start_time": "2023-05-11T15:58:58.756Z"
   },
   {
    "duration": 1957,
    "start_time": "2023-05-11T15:59:38.818Z"
   },
   {
    "duration": 681,
    "start_time": "2023-05-11T15:59:43.227Z"
   },
   {
    "duration": 5,
    "start_time": "2023-05-11T15:59:45.694Z"
   },
   {
    "duration": 810,
    "start_time": "2023-05-11T15:59:47.720Z"
   },
   {
    "duration": 2307,
    "start_time": "2023-05-11T16:00:14.813Z"
   },
   {
    "duration": 909,
    "start_time": "2023-05-11T16:00:23.286Z"
   },
   {
    "duration": 2687,
    "start_time": "2023-05-11T16:00:34.049Z"
   },
   {
    "duration": 147,
    "start_time": "2023-05-11T16:01:16.501Z"
   },
   {
    "duration": 5,
    "start_time": "2023-05-11T16:02:41.182Z"
   },
   {
    "duration": 4,
    "start_time": "2023-05-11T16:02:48.832Z"
   },
   {
    "duration": 91,
    "start_time": "2023-05-11T16:02:51.519Z"
   },
   {
    "duration": 9,
    "start_time": "2023-05-11T16:02:56.051Z"
   },
   {
    "duration": 4,
    "start_time": "2023-05-11T16:02:58.521Z"
   },
   {
    "duration": 11,
    "start_time": "2023-05-11T16:03:10.230Z"
   },
   {
    "duration": 401,
    "start_time": "2023-05-11T16:03:42.318Z"
   },
   {
    "duration": 10,
    "start_time": "2023-05-11T16:04:34.535Z"
   },
   {
    "duration": 90,
    "start_time": "2023-05-11T16:04:39.537Z"
   },
   {
    "duration": 841,
    "start_time": "2023-05-11T16:04:53.887Z"
   },
   {
    "duration": 547,
    "start_time": "2023-05-11T16:05:00.578Z"
   },
   {
    "duration": 46,
    "start_time": "2023-05-11T16:05:14.823Z"
   },
   {
    "duration": 539,
    "start_time": "2023-05-11T16:05:19.303Z"
   },
   {
    "duration": 13,
    "start_time": "2023-05-11T16:05:27.775Z"
   },
   {
    "duration": 17,
    "start_time": "2023-05-11T16:05:34.113Z"
   },
   {
    "duration": 3,
    "start_time": "2023-05-11T16:06:13.087Z"
   },
   {
    "duration": 679,
    "start_time": "2023-05-11T16:08:42.053Z"
   },
   {
    "duration": 568,
    "start_time": "2023-05-11T16:08:55.982Z"
   },
   {
    "duration": 4455,
    "start_time": "2023-05-11T16:09:24.478Z"
   },
   {
    "duration": 3,
    "start_time": "2023-05-11T16:10:30.431Z"
   },
   {
    "duration": 203,
    "start_time": "2023-05-11T16:12:15.527Z"
   },
   {
    "duration": 198,
    "start_time": "2023-05-11T16:12:37.928Z"
   },
   {
    "duration": 1014,
    "start_time": "2023-05-11T16:12:52.221Z"
   },
   {
    "duration": 2034,
    "start_time": "2023-05-11T16:21:19.430Z"
   },
   {
    "duration": 1227,
    "start_time": "2023-05-11T16:21:21.470Z"
   },
   {
    "duration": 15553,
    "start_time": "2023-05-11T16:21:22.698Z"
   },
   {
    "duration": 11380,
    "start_time": "2023-05-11T16:21:38.253Z"
   },
   {
    "duration": 94,
    "start_time": "2023-05-11T16:21:49.635Z"
   },
   {
    "duration": 4,
    "start_time": "2023-05-11T16:25:08.561Z"
   },
   {
    "duration": 114,
    "start_time": "2023-05-11T16:25:47.853Z"
   },
   {
    "duration": 4,
    "start_time": "2023-05-11T16:26:10.546Z"
   },
   {
    "duration": 4,
    "start_time": "2023-05-11T16:26:16.035Z"
   },
   {
    "duration": 3,
    "start_time": "2023-05-11T16:26:24.490Z"
   },
   {
    "duration": 3,
    "start_time": "2023-05-11T16:26:33.891Z"
   },
   {
    "duration": 4,
    "start_time": "2023-05-11T16:26:36.494Z"
   },
   {
    "duration": 6,
    "start_time": "2023-05-11T16:26:39.036Z"
   },
   {
    "duration": 4,
    "start_time": "2023-05-11T16:26:55.441Z"
   },
   {
    "duration": 4,
    "start_time": "2023-05-11T16:27:19.588Z"
   },
   {
    "duration": 5,
    "start_time": "2023-05-11T16:28:02.627Z"
   },
   {
    "duration": 874,
    "start_time": "2023-05-11T16:28:12.745Z"
   },
   {
    "duration": 9,
    "start_time": "2023-05-11T16:29:53.808Z"
   },
   {
    "duration": 12,
    "start_time": "2023-05-11T16:30:04.490Z"
   },
   {
    "duration": 816,
    "start_time": "2023-05-11T16:30:16.293Z"
   },
   {
    "duration": 4,
    "start_time": "2023-05-11T16:30:39.887Z"
   },
   {
    "duration": 9,
    "start_time": "2023-05-11T16:31:07.003Z"
   },
   {
    "duration": 10,
    "start_time": "2023-05-11T16:32:15.297Z"
   },
   {
    "duration": 4,
    "start_time": "2023-05-11T16:32:26.525Z"
   },
   {
    "duration": 9,
    "start_time": "2023-05-11T16:32:54.604Z"
   },
   {
    "duration": 8,
    "start_time": "2023-05-11T16:33:01.261Z"
   },
   {
    "duration": 3,
    "start_time": "2023-05-11T16:34:24.112Z"
   },
   {
    "duration": 272,
    "start_time": "2023-05-11T16:41:07.721Z"
   },
   {
    "duration": 2,
    "start_time": "2023-05-11T16:41:22.677Z"
   },
   {
    "duration": 4,
    "start_time": "2023-05-11T16:41:23.948Z"
   },
   {
    "duration": 1302,
    "start_time": "2023-05-11T16:41:24.617Z"
   },
   {
    "duration": 330,
    "start_time": "2023-05-11T16:41:25.922Z"
   },
   {
    "duration": 231,
    "start_time": "2023-05-11T16:42:02.697Z"
   },
   {
    "duration": 684,
    "start_time": "2023-05-11T16:42:22.037Z"
   },
   {
    "duration": 17,
    "start_time": "2023-05-11T16:42:31.492Z"
   },
   {
    "duration": 415,
    "start_time": "2023-05-11T16:42:37.405Z"
   },
   {
    "duration": 30,
    "start_time": "2023-05-11T16:42:49.910Z"
   },
   {
    "duration": 265,
    "start_time": "2023-05-11T16:42:56.174Z"
   },
   {
    "duration": 522,
    "start_time": "2023-05-11T16:43:58.389Z"
   },
   {
    "duration": 147,
    "start_time": "2023-05-11T16:46:13.076Z"
   },
   {
    "duration": 97,
    "start_time": "2023-05-11T16:46:20.292Z"
   },
   {
    "duration": 2,
    "start_time": "2023-05-11T16:46:27.879Z"
   },
   {
    "duration": 24,
    "start_time": "2023-05-11T16:46:48.375Z"
   },
   {
    "duration": 165,
    "start_time": "2023-05-11T16:47:07.647Z"
   },
   {
    "duration": 1286,
    "start_time": "2023-05-11T16:47:12.720Z"
   },
   {
    "duration": 3,
    "start_time": "2023-05-11T16:47:19.824Z"
   },
   {
    "duration": 5,
    "start_time": "2023-05-11T16:47:26.570Z"
   },
   {
    "duration": 9,
    "start_time": "2023-05-11T16:48:38.376Z"
   },
   {
    "duration": 10,
    "start_time": "2023-05-11T16:48:54.414Z"
   },
   {
    "duration": 15,
    "start_time": "2023-05-11T16:49:03.094Z"
   },
   {
    "duration": 14,
    "start_time": "2023-05-11T16:49:16.203Z"
   },
   {
    "duration": 383,
    "start_time": "2023-05-11T16:49:18.846Z"
   },
   {
    "duration": 54,
    "start_time": "2023-05-11T16:49:59.823Z"
   },
   {
    "duration": 324,
    "start_time": "2023-05-11T16:50:12.184Z"
   },
   {
    "duration": 329,
    "start_time": "2023-05-11T16:50:20.391Z"
   },
   {
    "duration": 416,
    "start_time": "2023-05-11T16:50:38.506Z"
   },
   {
    "duration": 399,
    "start_time": "2023-05-11T16:50:49.063Z"
   },
   {
    "duration": 286,
    "start_time": "2023-05-11T16:50:57.447Z"
   },
   {
    "duration": 15,
    "start_time": "2023-05-11T16:51:25.242Z"
   },
   {
    "duration": 14,
    "start_time": "2023-05-11T16:51:27.480Z"
   },
   {
    "duration": 14,
    "start_time": "2023-05-11T16:51:29.568Z"
   },
   {
    "duration": 16,
    "start_time": "2023-05-11T16:51:32.243Z"
   },
   {
    "duration": 25,
    "start_time": "2023-05-11T16:51:42.647Z"
   },
   {
    "duration": 1113,
    "start_time": "2023-05-11T16:52:06.903Z"
   },
   {
    "duration": 489,
    "start_time": "2023-05-11T16:52:16.325Z"
   },
   {
    "duration": 509,
    "start_time": "2023-05-11T16:52:23.322Z"
   },
   {
    "duration": 386,
    "start_time": "2023-05-11T16:52:27.278Z"
   },
   {
    "duration": 720,
    "start_time": "2023-05-11T16:52:37.832Z"
   },
   {
    "duration": 693,
    "start_time": "2023-05-11T16:52:42.718Z"
   },
   {
    "duration": 564,
    "start_time": "2023-05-11T16:53:00.844Z"
   },
   {
    "duration": 507,
    "start_time": "2023-05-11T16:53:06.010Z"
   },
   {
    "duration": 413,
    "start_time": "2023-05-11T16:53:11.029Z"
   },
   {
    "duration": 5,
    "start_time": "2023-05-11T16:53:16.815Z"
   },
   {
    "duration": 410,
    "start_time": "2023-05-11T16:53:50.529Z"
   },
   {
    "duration": 18,
    "start_time": "2023-05-11T16:54:36.702Z"
   },
   {
    "duration": 8,
    "start_time": "2023-05-11T16:54:43.244Z"
   },
   {
    "duration": 12,
    "start_time": "2023-05-11T16:54:45.650Z"
   },
   {
    "duration": 1293,
    "start_time": "2023-05-11T16:56:21.556Z"
   },
   {
    "duration": 10,
    "start_time": "2023-05-11T16:56:47.912Z"
   },
   {
    "duration": 113,
    "start_time": "2023-05-11T16:56:54.730Z"
   },
   {
    "duration": 190,
    "start_time": "2023-05-11T16:57:25.216Z"
   },
   {
    "duration": 240,
    "start_time": "2023-05-11T16:57:29.183Z"
   },
   {
    "duration": 229,
    "start_time": "2023-05-11T16:57:48.995Z"
   },
   {
    "duration": 31,
    "start_time": "2023-05-11T16:58:58.478Z"
   },
   {
    "duration": 29,
    "start_time": "2023-05-11T16:59:10.644Z"
   },
   {
    "duration": 32,
    "start_time": "2023-05-11T16:59:36.331Z"
   },
   {
    "duration": 24,
    "start_time": "2023-05-11T16:59:45.732Z"
   },
   {
    "duration": 2303,
    "start_time": "2023-05-11T16:59:53.330Z"
   },
   {
    "duration": 3,
    "start_time": "2023-05-11T16:59:55.641Z"
   },
   {
    "duration": 2119,
    "start_time": "2023-05-11T16:59:57.430Z"
   },
   {
    "duration": 1214,
    "start_time": "2023-05-11T16:59:59.552Z"
   },
   {
    "duration": 16459,
    "start_time": "2023-05-11T17:00:00.768Z"
   },
   {
    "duration": 13115,
    "start_time": "2023-05-11T17:00:17.230Z"
   },
   {
    "duration": 12,
    "start_time": "2023-05-11T17:00:30.411Z"
   },
   {
    "duration": 5,
    "start_time": "2023-05-11T17:00:30.425Z"
   },
   {
    "duration": 93,
    "start_time": "2023-05-11T17:00:30.431Z"
   },
   {
    "duration": 32,
    "start_time": "2023-05-11T17:02:01.171Z"
   },
   {
    "duration": 124,
    "start_time": "2023-05-11T17:02:27.925Z"
   },
   {
    "duration": 9,
    "start_time": "2023-05-11T17:02:44.946Z"
   },
   {
    "duration": 12,
    "start_time": "2023-05-11T17:03:21.744Z"
   },
   {
    "duration": 4,
    "start_time": "2023-05-11T17:03:53.059Z"
   },
   {
    "duration": 10,
    "start_time": "2023-05-11T17:03:55.791Z"
   },
   {
    "duration": 13,
    "start_time": "2023-05-11T17:04:01.423Z"
   },
   {
    "duration": 14,
    "start_time": "2023-05-11T17:04:04.001Z"
   },
   {
    "duration": 6,
    "start_time": "2023-05-11T17:04:15.516Z"
   },
   {
    "duration": 11,
    "start_time": "2023-05-11T17:04:18.657Z"
   },
   {
    "duration": 4,
    "start_time": "2023-05-11T17:04:24.070Z"
   },
   {
    "duration": 1548,
    "start_time": "2023-05-11T17:04:30.264Z"
   },
   {
    "duration": 1075,
    "start_time": "2023-05-11T17:04:43.580Z"
   },
   {
    "duration": 1121,
    "start_time": "2023-05-11T17:04:47.747Z"
   },
   {
    "duration": 4,
    "start_time": "2023-05-11T17:05:06.244Z"
   },
   {
    "duration": 6,
    "start_time": "2023-05-11T17:06:04.722Z"
   },
   {
    "duration": 982,
    "start_time": "2023-05-11T17:06:12.760Z"
   },
   {
    "duration": 1365,
    "start_time": "2023-05-11T17:06:27.389Z"
   },
   {
    "duration": 13,
    "start_time": "2023-05-11T17:07:01.447Z"
   },
   {
    "duration": 9,
    "start_time": "2023-05-11T17:07:10.872Z"
   },
   {
    "duration": 174,
    "start_time": "2023-05-11T17:07:17.277Z"
   },
   {
    "duration": 4,
    "start_time": "2023-05-11T17:07:23.356Z"
   },
   {
    "duration": 1497,
    "start_time": "2023-05-11T17:07:24.241Z"
   },
   {
    "duration": 1600,
    "start_time": "2023-05-11T17:07:25.740Z"
   },
   {
    "duration": 764,
    "start_time": "2023-05-11T17:07:40.880Z"
   },
   {
    "duration": 682,
    "start_time": "2023-05-11T17:07:46.735Z"
   },
   {
    "duration": 764,
    "start_time": "2023-05-11T17:07:56.067Z"
   },
   {
    "duration": 253,
    "start_time": "2023-05-11T17:08:56.646Z"
   },
   {
    "duration": 2091,
    "start_time": "2023-05-11T17:09:28.324Z"
   },
   {
    "duration": 5,
    "start_time": "2023-05-11T17:09:47.562Z"
   },
   {
    "duration": 18,
    "start_time": "2023-05-11T17:09:56.754Z"
   },
   {
    "duration": 8,
    "start_time": "2023-05-11T17:10:03.775Z"
   },
   {
    "duration": 10,
    "start_time": "2023-05-11T17:10:18.182Z"
   },
   {
    "duration": 3,
    "start_time": "2023-05-11T17:10:38.388Z"
   },
   {
    "duration": 19,
    "start_time": "2023-05-11T17:10:46.186Z"
   },
   {
    "duration": 116,
    "start_time": "2023-05-11T17:11:11.628Z"
   },
   {
    "duration": 126,
    "start_time": "2023-05-11T17:11:17.434Z"
   },
   {
    "duration": 57,
    "start_time": "2023-05-11T17:11:31.978Z"
   },
   {
    "duration": 729,
    "start_time": "2023-05-11T17:11:37.490Z"
   },
   {
    "duration": 402,
    "start_time": "2023-05-11T17:11:43.560Z"
   },
   {
    "duration": 39,
    "start_time": "2023-05-11T17:11:53.199Z"
   },
   {
    "duration": 32,
    "start_time": "2023-05-11T17:15:08.892Z"
   },
   {
    "duration": 558,
    "start_time": "2023-05-11T17:15:14.070Z"
   },
   {
    "duration": 520,
    "start_time": "2023-05-11T17:15:23.732Z"
   },
   {
    "duration": 274,
    "start_time": "2023-05-11T17:15:28.973Z"
   },
   {
    "duration": 425,
    "start_time": "2023-05-11T17:16:06.781Z"
   },
   {
    "duration": 389,
    "start_time": "2023-05-11T17:16:14.034Z"
   },
   {
    "duration": 14,
    "start_time": "2023-05-11T17:17:56.247Z"
   },
   {
    "duration": 639,
    "start_time": "2023-05-11T17:18:05.628Z"
   },
   {
    "duration": 549,
    "start_time": "2023-05-11T17:18:10.783Z"
   },
   {
    "duration": 2459,
    "start_time": "2023-05-11T17:18:48.040Z"
   },
   {
    "duration": 652,
    "start_time": "2023-05-11T17:18:50.501Z"
   },
   {
    "duration": 16374,
    "start_time": "2023-05-11T17:18:51.155Z"
   },
   {
    "duration": 12312,
    "start_time": "2023-05-11T17:19:07.532Z"
   },
   {
    "duration": 2072,
    "start_time": "2023-05-11T17:19:19.845Z"
   },
   {
    "duration": 1298,
    "start_time": "2023-05-11T17:19:21.919Z"
   },
   {
    "duration": 989,
    "start_time": "2023-05-11T17:19:39.559Z"
   },
   {
    "duration": 227,
    "start_time": "2023-05-11T17:21:32.474Z"
   },
   {
    "duration": 3,
    "start_time": "2023-05-11T17:23:04.259Z"
   },
   {
    "duration": 4,
    "start_time": "2023-05-11T17:23:09.229Z"
   },
   {
    "duration": 1409,
    "start_time": "2023-05-11T17:25:24.853Z"
   },
   {
    "duration": 974,
    "start_time": "2023-05-11T17:26:11.850Z"
   },
   {
    "duration": 910,
    "start_time": "2023-05-11T17:27:00.198Z"
   },
   {
    "duration": 956,
    "start_time": "2023-05-11T17:27:38.477Z"
   },
   {
    "duration": 872,
    "start_time": "2023-05-11T17:27:51.241Z"
   },
   {
    "duration": 605,
    "start_time": "2023-05-11T17:27:56.849Z"
   },
   {
    "duration": 823,
    "start_time": "2023-05-11T17:28:00.206Z"
   },
   {
    "duration": 130,
    "start_time": "2023-05-11T17:29:10.623Z"
   },
   {
    "duration": 2810,
    "start_time": "2023-05-13T07:50:15.556Z"
   },
   {
    "duration": 768,
    "start_time": "2023-05-13T07:50:18.368Z"
   },
   {
    "duration": 18429,
    "start_time": "2023-05-13T07:50:19.138Z"
   },
   {
    "duration": 10068,
    "start_time": "2023-05-13T07:50:37.569Z"
   },
   {
    "duration": 1698,
    "start_time": "2023-05-13T07:50:47.640Z"
   },
   {
    "duration": 64,
    "start_time": "2023-05-13T07:51:28.980Z"
   },
   {
    "duration": 186,
    "start_time": "2023-05-13T07:51:40.933Z"
   },
   {
    "duration": 57,
    "start_time": "2023-05-13T07:51:44.902Z"
   },
   {
    "duration": 1471,
    "start_time": "2023-05-13T07:51:49.555Z"
   },
   {
    "duration": 900,
    "start_time": "2023-05-13T07:51:58.229Z"
   },
   {
    "duration": 805,
    "start_time": "2023-05-13T07:52:01.714Z"
   },
   {
    "duration": 625,
    "start_time": "2023-05-13T07:52:04.121Z"
   },
   {
    "duration": 16,
    "start_time": "2023-05-13T07:53:43.874Z"
   },
   {
    "duration": 5,
    "start_time": "2023-05-13T07:55:31.833Z"
   },
   {
    "duration": 369,
    "start_time": "2023-05-13T08:00:30.659Z"
   },
   {
    "duration": 325,
    "start_time": "2023-05-13T08:00:44.349Z"
   },
   {
    "duration": 113,
    "start_time": "2023-05-13T08:00:58.687Z"
   },
   {
    "duration": 165,
    "start_time": "2023-05-13T08:02:20.709Z"
   },
   {
    "duration": 133,
    "start_time": "2023-05-13T08:02:37.826Z"
   },
   {
    "duration": 7,
    "start_time": "2023-05-13T08:03:01.591Z"
   },
   {
    "duration": 3,
    "start_time": "2023-05-13T08:03:35.926Z"
   },
   {
    "duration": 9,
    "start_time": "2023-05-13T08:03:52.795Z"
   },
   {
    "duration": 16,
    "start_time": "2023-05-13T08:05:42.585Z"
   },
   {
    "duration": 3,
    "start_time": "2023-05-13T08:06:14.451Z"
   },
   {
    "duration": 33,
    "start_time": "2023-05-13T08:06:18.854Z"
   },
   {
    "duration": 17,
    "start_time": "2023-05-13T08:11:10.217Z"
   },
   {
    "duration": 119,
    "start_time": "2023-05-13T08:11:15.941Z"
   },
   {
    "duration": 3,
    "start_time": "2023-05-13T08:13:29.761Z"
   },
   {
    "duration": 244,
    "start_time": "2023-05-13T08:16:31.632Z"
   },
   {
    "duration": 167,
    "start_time": "2023-05-13T08:16:45.709Z"
   },
   {
    "duration": 6117,
    "start_time": "2023-05-13T08:17:50.246Z"
   },
   {
    "duration": 4742,
    "start_time": "2023-05-13T08:20:04.697Z"
   },
   {
    "duration": 5684,
    "start_time": "2023-05-13T08:21:56.151Z"
   },
   {
    "duration": 8,
    "start_time": "2023-05-13T08:22:08.400Z"
   },
   {
    "duration": 39,
    "start_time": "2023-05-13T08:22:30.953Z"
   },
   {
    "duration": 183,
    "start_time": "2023-05-13T08:23:20.800Z"
   },
   {
    "duration": 636,
    "start_time": "2023-05-13T08:23:26.594Z"
   },
   {
    "duration": 20,
    "start_time": "2023-05-13T08:23:44.299Z"
   },
   {
    "duration": 378,
    "start_time": "2023-05-13T08:27:09.148Z"
   },
   {
    "duration": 8,
    "start_time": "2023-05-13T08:27:29.894Z"
   },
   {
    "duration": 3,
    "start_time": "2023-05-13T08:27:41.070Z"
   },
   {
    "duration": 2,
    "start_time": "2023-05-13T08:28:09.872Z"
   },
   {
    "duration": 2977,
    "start_time": "2023-05-13T08:28:12.841Z"
   },
   {
    "duration": 5,
    "start_time": "2023-05-13T08:29:02.123Z"
   },
   {
    "duration": 2,
    "start_time": "2023-05-13T08:29:11.437Z"
   },
   {
    "duration": 4414,
    "start_time": "2023-05-13T08:29:42.229Z"
   },
   {
    "duration": 4,
    "start_time": "2023-05-13T08:29:53.743Z"
   },
   {
    "duration": 2616,
    "start_time": "2023-05-13T08:29:58.545Z"
   },
   {
    "duration": 3,
    "start_time": "2023-05-13T08:30:32.573Z"
   },
   {
    "duration": 12,
    "start_time": "2023-05-13T08:31:04.965Z"
   },
   {
    "duration": 335,
    "start_time": "2023-05-13T08:31:08.277Z"
   },
   {
    "duration": 2451,
    "start_time": "2023-05-13T08:31:56.113Z"
   },
   {
    "duration": 687,
    "start_time": "2023-05-13T08:31:58.566Z"
   },
   {
    "duration": 17265,
    "start_time": "2023-05-13T08:31:59.254Z"
   },
   {
    "duration": 10913,
    "start_time": "2023-05-13T08:32:16.522Z"
   },
   {
    "duration": 11318,
    "start_time": "2023-05-13T08:32:27.437Z"
   },
   {
    "duration": 148,
    "start_time": "2023-05-13T08:32:38.757Z"
   },
   {
    "duration": 0,
    "start_time": "2023-05-13T08:32:38.906Z"
   },
   {
    "duration": 4300,
    "start_time": "2023-05-13T08:33:21.729Z"
   },
   {
    "duration": 755,
    "start_time": "2023-05-13T08:33:27.452Z"
   },
   {
    "duration": 16,
    "start_time": "2023-05-13T08:40:26.598Z"
   },
   {
    "duration": 12,
    "start_time": "2023-05-13T08:40:32.790Z"
   },
   {
    "duration": 2416,
    "start_time": "2023-05-13T08:40:41.445Z"
   },
   {
    "duration": 3,
    "start_time": "2023-05-13T08:40:43.863Z"
   },
   {
    "duration": 8,
    "start_time": "2023-05-13T08:40:43.868Z"
   },
   {
    "duration": 1067,
    "start_time": "2023-05-13T08:40:43.878Z"
   },
   {
    "duration": 4487,
    "start_time": "2023-05-13T08:40:44.947Z"
   },
   {
    "duration": 2810,
    "start_time": "2023-05-13T08:40:49.436Z"
   },
   {
    "duration": 12,
    "start_time": "2023-05-13T08:41:01.040Z"
   },
   {
    "duration": 416,
    "start_time": "2023-05-13T08:41:06.833Z"
   },
   {
    "duration": 12,
    "start_time": "2023-05-13T08:42:14.406Z"
   },
   {
    "duration": 2151,
    "start_time": "2023-05-13T08:42:18.353Z"
   },
   {
    "duration": 752,
    "start_time": "2023-05-13T08:42:20.507Z"
   },
   {
    "duration": 15769,
    "start_time": "2023-05-13T08:42:21.260Z"
   },
   {
    "duration": 10603,
    "start_time": "2023-05-13T08:42:37.032Z"
   },
   {
    "duration": 10881,
    "start_time": "2023-05-13T08:42:47.637Z"
   },
   {
    "duration": 829,
    "start_time": "2023-05-13T08:42:58.520Z"
   },
   {
    "duration": 3785,
    "start_time": "2023-05-13T08:42:59.352Z"
   },
   {
    "duration": 706,
    "start_time": "2023-05-13T08:43:03.139Z"
   },
   {
    "duration": 22,
    "start_time": "2023-05-13T08:43:57.664Z"
   },
   {
    "duration": 2225,
    "start_time": "2023-05-13T08:46:29.406Z"
   },
   {
    "duration": 730,
    "start_time": "2023-05-13T08:46:31.635Z"
   },
   {
    "duration": 15773,
    "start_time": "2023-05-13T08:46:32.367Z"
   },
   {
    "duration": 10091,
    "start_time": "2023-05-13T08:46:48.143Z"
   },
   {
    "duration": 10203,
    "start_time": "2023-05-13T08:46:58.236Z"
   },
   {
    "duration": 809,
    "start_time": "2023-05-13T08:47:08.441Z"
   },
   {
    "duration": 3982,
    "start_time": "2023-05-13T08:47:09.252Z"
   },
   {
    "duration": 497,
    "start_time": "2023-05-13T08:47:13.236Z"
   },
   {
    "duration": 7,
    "start_time": "2023-05-13T08:47:21.720Z"
   },
   {
    "duration": 3,
    "start_time": "2023-05-13T08:47:26.283Z"
   },
   {
    "duration": 266,
    "start_time": "2023-05-13T08:47:30.156Z"
   },
   {
    "duration": 585,
    "start_time": "2023-05-13T08:49:10.591Z"
   },
   {
    "duration": 5274,
    "start_time": "2023-05-13T08:49:22.269Z"
   },
   {
    "duration": 20,
    "start_time": "2023-05-13T08:49:49.102Z"
   },
   {
    "duration": 14,
    "start_time": "2023-05-13T08:50:13.381Z"
   },
   {
    "duration": 3,
    "start_time": "2023-05-13T08:50:28.612Z"
   },
   {
    "duration": 6,
    "start_time": "2023-05-13T08:52:48.757Z"
   },
   {
    "duration": 2566,
    "start_time": "2023-05-13T08:54:04.467Z"
   },
   {
    "duration": 2123,
    "start_time": "2023-05-13T08:54:47.647Z"
   },
   {
    "duration": 20,
    "start_time": "2023-05-13T08:55:46.114Z"
   },
   {
    "duration": 145,
    "start_time": "2023-05-13T08:55:53.084Z"
   },
   {
    "duration": 20,
    "start_time": "2023-05-13T08:55:58.897Z"
   },
   {
    "duration": 3,
    "start_time": "2023-05-13T08:56:40.148Z"
   },
   {
    "duration": 2108,
    "start_time": "2023-05-13T08:57:06.139Z"
   },
   {
    "duration": 4,
    "start_time": "2023-05-13T08:57:08.249Z"
   },
   {
    "duration": 8,
    "start_time": "2023-05-13T08:57:08.254Z"
   },
   {
    "duration": 855,
    "start_time": "2023-05-13T08:57:08.264Z"
   },
   {
    "duration": 4510,
    "start_time": "2023-05-13T08:57:09.121Z"
   },
   {
    "duration": 612,
    "start_time": "2023-05-13T08:57:13.633Z"
   },
   {
    "duration": 2696,
    "start_time": "2023-05-13T08:57:47.529Z"
   },
   {
    "duration": 150,
    "start_time": "2023-05-13T08:58:14.996Z"
   },
   {
    "duration": 3360,
    "start_time": "2023-05-13T08:58:33.799Z"
   },
   {
    "duration": 362,
    "start_time": "2023-05-13T08:58:51.060Z"
   },
   {
    "duration": 2607,
    "start_time": "2023-05-13T09:02:02.495Z"
   },
   {
    "duration": 2655,
    "start_time": "2023-05-13T09:02:14.825Z"
   },
   {
    "duration": 2630,
    "start_time": "2023-05-13T09:02:34.013Z"
   },
   {
    "duration": 8,
    "start_time": "2023-05-13T09:04:11.210Z"
   },
   {
    "duration": 4,
    "start_time": "2023-05-13T09:04:35.196Z"
   },
   {
    "duration": 4660,
    "start_time": "2023-05-13T09:06:02.882Z"
   },
   {
    "duration": 2166,
    "start_time": "2023-05-13T09:06:38.331Z"
   },
   {
    "duration": 722,
    "start_time": "2023-05-13T09:06:40.499Z"
   },
   {
    "duration": 15335,
    "start_time": "2023-05-13T09:06:41.223Z"
   },
   {
    "duration": 10664,
    "start_time": "2023-05-13T09:06:56.561Z"
   },
   {
    "duration": 11222,
    "start_time": "2023-05-13T09:07:07.228Z"
   },
   {
    "duration": 3600,
    "start_time": "2023-05-13T09:07:18.452Z"
   },
   {
    "duration": 3971,
    "start_time": "2023-05-13T09:07:22.054Z"
   },
   {
    "duration": 9016,
    "start_time": "2023-05-13T09:07:26.026Z"
   },
   {
    "duration": 220,
    "start_time": "2023-05-13T09:08:57.132Z"
   },
   {
    "duration": 13,
    "start_time": "2023-05-13T09:09:07.954Z"
   },
   {
    "duration": 2373,
    "start_time": "2023-05-13T09:09:18.292Z"
   },
   {
    "duration": 7022,
    "start_time": "2023-05-13T09:09:23.258Z"
   },
   {
    "duration": 3,
    "start_time": "2023-05-13T09:11:03.472Z"
   },
   {
    "duration": 10,
    "start_time": "2023-05-13T09:11:25.659Z"
   },
   {
    "duration": 5,
    "start_time": "2023-05-13T09:11:49.573Z"
   },
   {
    "duration": 6,
    "start_time": "2023-05-13T09:11:56.870Z"
   },
   {
    "duration": 129,
    "start_time": "2023-05-13T09:13:34.844Z"
   },
   {
    "duration": 9031,
    "start_time": "2023-05-13T09:13:45.318Z"
   },
   {
    "duration": 4,
    "start_time": "2023-05-13T09:16:56.096Z"
   },
   {
    "duration": 4,
    "start_time": "2023-05-13T09:16:59.395Z"
   },
   {
    "duration": 8543,
    "start_time": "2023-05-13T09:17:37.512Z"
   },
   {
    "duration": 11,
    "start_time": "2023-05-13T09:18:32.551Z"
   },
   {
    "duration": 2063,
    "start_time": "2023-05-13T09:18:36.216Z"
   },
   {
    "duration": 760,
    "start_time": "2023-05-13T09:18:38.281Z"
   },
   {
    "duration": 0,
    "start_time": "2023-05-13T09:18:39.042Z"
   },
   {
    "duration": 0,
    "start_time": "2023-05-13T09:18:39.043Z"
   },
   {
    "duration": 0,
    "start_time": "2023-05-13T09:18:39.044Z"
   },
   {
    "duration": 0,
    "start_time": "2023-05-13T09:18:39.045Z"
   },
   {
    "duration": 0,
    "start_time": "2023-05-13T09:18:39.046Z"
   },
   {
    "duration": 0,
    "start_time": "2023-05-13T09:18:39.048Z"
   },
   {
    "duration": 2113,
    "start_time": "2023-05-13T09:18:49.348Z"
   },
   {
    "duration": 715,
    "start_time": "2023-05-13T09:18:51.463Z"
   },
   {
    "duration": 14740,
    "start_time": "2023-05-13T09:18:52.179Z"
   },
   {
    "duration": 9918,
    "start_time": "2023-05-13T09:19:06.922Z"
   },
   {
    "duration": 9978,
    "start_time": "2023-05-13T09:19:16.842Z"
   },
   {
    "duration": 3307,
    "start_time": "2023-05-13T09:19:26.822Z"
   },
   {
    "duration": 3501,
    "start_time": "2023-05-13T09:19:30.131Z"
   },
   {
    "duration": 15486,
    "start_time": "2023-05-13T09:19:33.633Z"
   },
   {
    "duration": 7612,
    "start_time": "2023-05-13T09:23:03.645Z"
   },
   {
    "duration": 2566,
    "start_time": "2023-05-13T09:23:14.344Z"
   },
   {
    "duration": 721,
    "start_time": "2023-05-13T09:23:16.912Z"
   },
   {
    "duration": 16094,
    "start_time": "2023-05-13T09:23:17.634Z"
   },
   {
    "duration": 9439,
    "start_time": "2023-05-13T09:23:33.733Z"
   },
   {
    "duration": 0,
    "start_time": "2023-05-13T09:23:43.175Z"
   },
   {
    "duration": 0,
    "start_time": "2023-05-13T09:23:43.176Z"
   },
   {
    "duration": 0,
    "start_time": "2023-05-13T09:23:43.177Z"
   },
   {
    "duration": 0,
    "start_time": "2023-05-13T09:23:43.179Z"
   },
   {
    "duration": 2709,
    "start_time": "2023-05-13T09:24:20.749Z"
   },
   {
    "duration": 704,
    "start_time": "2023-05-13T09:24:29.252Z"
   },
   {
    "duration": 1771,
    "start_time": "2023-05-13T09:24:50.665Z"
   },
   {
    "duration": 10186,
    "start_time": "2023-05-13T09:24:54.357Z"
   },
   {
    "duration": 3300,
    "start_time": "2023-05-13T09:25:04.546Z"
   },
   {
    "duration": 3281,
    "start_time": "2023-05-13T09:25:07.848Z"
   },
   {
    "duration": 14212,
    "start_time": "2023-05-13T09:25:11.130Z"
   },
   {
    "duration": 2256,
    "start_time": "2023-05-13T09:25:45.929Z"
   },
   {
    "duration": 776,
    "start_time": "2023-05-13T09:25:48.187Z"
   },
   {
    "duration": 16159,
    "start_time": "2023-05-13T09:25:48.964Z"
   },
   {
    "duration": 10903,
    "start_time": "2023-05-13T09:26:05.126Z"
   },
   {
    "duration": 12488,
    "start_time": "2023-05-13T09:26:16.031Z"
   },
   {
    "duration": 3212,
    "start_time": "2023-05-13T09:26:28.520Z"
   },
   {
    "duration": 3599,
    "start_time": "2023-05-13T09:26:31.733Z"
   },
   {
    "duration": 14399,
    "start_time": "2023-05-13T09:26:35.333Z"
   },
   {
    "duration": 2162,
    "start_time": "2023-05-13T09:28:07.156Z"
   },
   {
    "duration": 642,
    "start_time": "2023-05-13T09:28:09.320Z"
   },
   {
    "duration": 15888,
    "start_time": "2023-05-13T09:28:09.963Z"
   },
   {
    "duration": 81,
    "start_time": "2023-05-13T09:28:25.853Z"
   },
   {
    "duration": 0,
    "start_time": "2023-05-13T09:28:25.936Z"
   },
   {
    "duration": 0,
    "start_time": "2023-05-13T09:28:25.937Z"
   },
   {
    "duration": 0,
    "start_time": "2023-05-13T09:28:25.938Z"
   },
   {
    "duration": 0,
    "start_time": "2023-05-13T09:28:25.939Z"
   },
   {
    "duration": 95,
    "start_time": "2023-05-13T09:29:51.413Z"
   },
   {
    "duration": 86,
    "start_time": "2023-05-13T09:29:55.265Z"
   },
   {
    "duration": 79,
    "start_time": "2023-05-13T09:30:18.345Z"
   },
   {
    "duration": 2240,
    "start_time": "2023-05-13T09:31:32.694Z"
   },
   {
    "duration": 702,
    "start_time": "2023-05-13T09:31:34.937Z"
   },
   {
    "duration": 15687,
    "start_time": "2023-05-13T09:31:35.641Z"
   },
   {
    "duration": 11219,
    "start_time": "2023-05-13T09:31:51.331Z"
   },
   {
    "duration": 12008,
    "start_time": "2023-05-13T09:32:02.552Z"
   },
   {
    "duration": 3793,
    "start_time": "2023-05-13T09:32:14.562Z"
   },
   {
    "duration": 3931,
    "start_time": "2023-05-13T09:32:18.418Z"
   },
   {
    "duration": 16698,
    "start_time": "2023-05-13T09:32:22.351Z"
   },
   {
    "duration": 69,
    "start_time": "2023-05-13T09:32:39.050Z"
   },
   {
    "duration": 74,
    "start_time": "2023-05-13T09:32:39.128Z"
   },
   {
    "duration": 3,
    "start_time": "2023-05-13T09:32:48.842Z"
   },
   {
    "duration": 4,
    "start_time": "2023-05-13T09:32:58.884Z"
   },
   {
    "duration": 3,
    "start_time": "2023-05-13T09:33:08.181Z"
   },
   {
    "duration": 4,
    "start_time": "2023-05-13T09:38:16.616Z"
   },
   {
    "duration": 4,
    "start_time": "2023-05-13T09:38:26.448Z"
   },
   {
    "duration": 2168,
    "start_time": "2023-05-13T09:38:56.269Z"
   },
   {
    "duration": 683,
    "start_time": "2023-05-13T09:38:58.439Z"
   },
   {
    "duration": 15916,
    "start_time": "2023-05-13T09:38:59.124Z"
   },
   {
    "duration": 10807,
    "start_time": "2023-05-13T09:39:15.042Z"
   },
   {
    "duration": 11908,
    "start_time": "2023-05-13T09:39:25.851Z"
   },
   {
    "duration": 3687,
    "start_time": "2023-05-13T09:39:37.761Z"
   },
   {
    "duration": 4080,
    "start_time": "2023-05-13T09:39:41.450Z"
   },
   {
    "duration": 17596,
    "start_time": "2023-05-13T09:39:45.532Z"
   },
   {
    "duration": 6,
    "start_time": "2023-05-13T09:40:03.130Z"
   },
   {
    "duration": 271,
    "start_time": "2023-05-13T09:40:03.138Z"
   },
   {
    "duration": 9639,
    "start_time": "2023-05-13T09:41:28.902Z"
   },
   {
    "duration": 4,
    "start_time": "2023-05-13T09:41:42.170Z"
   },
   {
    "duration": 9272,
    "start_time": "2023-05-13T09:42:13.581Z"
   },
   {
    "duration": 4,
    "start_time": "2023-05-13T09:42:25.676Z"
   },
   {
    "duration": 2187,
    "start_time": "2023-05-13T09:42:52.788Z"
   },
   {
    "duration": 645,
    "start_time": "2023-05-13T09:42:54.977Z"
   },
   {
    "duration": 15622,
    "start_time": "2023-05-13T09:42:55.624Z"
   },
   {
    "duration": 10803,
    "start_time": "2023-05-13T09:43:11.249Z"
   },
   {
    "duration": 10686,
    "start_time": "2023-05-13T09:43:22.054Z"
   },
   {
    "duration": 3391,
    "start_time": "2023-05-13T09:43:32.742Z"
   },
   {
    "duration": 3598,
    "start_time": "2023-05-13T09:43:36.135Z"
   },
   {
    "duration": 16623,
    "start_time": "2023-05-13T09:43:39.736Z"
   },
   {
    "duration": 4,
    "start_time": "2023-05-13T09:43:56.418Z"
   },
   {
    "duration": 22008,
    "start_time": "2023-05-13T09:49:15.677Z"
   },
   {
    "duration": 16086,
    "start_time": "2023-05-13T09:49:57.133Z"
   },
   {
    "duration": 29454,
    "start_time": "2023-05-13T09:50:21.972Z"
   },
   {
    "duration": 5,
    "start_time": "2023-05-13T09:50:58.378Z"
   },
   {
    "duration": 2071,
    "start_time": "2023-05-13T09:51:27.589Z"
   },
   {
    "duration": 688,
    "start_time": "2023-05-13T09:51:29.663Z"
   },
   {
    "duration": 14816,
    "start_time": "2023-05-13T09:51:30.353Z"
   },
   {
    "duration": 9808,
    "start_time": "2023-05-13T09:51:45.218Z"
   },
   {
    "duration": 10415,
    "start_time": "2023-05-13T09:51:55.029Z"
   },
   {
    "duration": 3394,
    "start_time": "2023-05-13T09:52:05.446Z"
   },
   {
    "duration": 3517,
    "start_time": "2023-05-13T09:52:08.842Z"
   },
   {
    "duration": 42785,
    "start_time": "2023-05-13T09:52:12.361Z"
   },
   {
    "duration": 5,
    "start_time": "2023-05-13T09:52:55.147Z"
   },
   {
    "duration": 4,
    "start_time": "2023-05-13T09:53:39.032Z"
   },
   {
    "duration": 303,
    "start_time": "2023-05-14T08:28:38.638Z"
   },
   {
    "duration": 188,
    "start_time": "2023-05-14T08:32:31.225Z"
   },
   {
    "duration": 801,
    "start_time": "2023-05-14T08:33:52.728Z"
   },
   {
    "duration": 3418,
    "start_time": "2023-05-14T08:36:31.255Z"
   },
   {
    "duration": 745,
    "start_time": "2023-05-14T08:36:34.676Z"
   },
   {
    "duration": 20836,
    "start_time": "2023-05-14T08:36:35.423Z"
   },
   {
    "duration": 13215,
    "start_time": "2023-05-14T08:36:56.262Z"
   },
   {
    "duration": 14328,
    "start_time": "2023-05-14T08:37:09.480Z"
   },
   {
    "duration": 4475,
    "start_time": "2023-05-14T08:37:23.810Z"
   },
   {
    "duration": 4687,
    "start_time": "2023-05-14T08:37:28.287Z"
   },
   {
    "duration": 57313,
    "start_time": "2023-05-14T08:37:32.977Z"
   },
   {
    "duration": 5,
    "start_time": "2023-05-14T08:38:30.292Z"
   },
   {
    "duration": 121,
    "start_time": "2023-05-14T08:38:30.299Z"
   },
   {
    "duration": 5,
    "start_time": "2023-05-14T08:38:53.716Z"
   },
   {
    "duration": 12,
    "start_time": "2023-05-14T08:43:44.215Z"
   },
   {
    "duration": 2451,
    "start_time": "2023-05-14T08:45:35.607Z"
   },
   {
    "duration": 8,
    "start_time": "2023-05-14T08:45:38.062Z"
   },
   {
    "duration": 440,
    "start_time": "2023-05-14T08:45:38.073Z"
   },
   {
    "duration": 1134,
    "start_time": "2023-05-14T08:45:38.573Z"
   },
   {
    "duration": 111,
    "start_time": "2023-05-14T08:45:39.710Z"
   },
   {
    "duration": 5986,
    "start_time": "2023-05-14T08:45:40.606Z"
   },
   {
    "duration": 19,
    "start_time": "2023-05-14T08:45:48.996Z"
   },
   {
    "duration": 8,
    "start_time": "2023-05-14T08:45:53.255Z"
   },
   {
    "duration": 94,
    "start_time": "2023-05-14T08:46:10.412Z"
   },
   {
    "duration": 11,
    "start_time": "2023-05-14T08:46:12.997Z"
   },
   {
    "duration": 35,
    "start_time": "2023-05-14T08:49:28.039Z"
   },
   {
    "duration": 10,
    "start_time": "2023-05-14T08:49:32.522Z"
   },
   {
    "duration": 1341,
    "start_time": "2023-05-14T08:49:36.260Z"
   },
   {
    "duration": 2571,
    "start_time": "2023-05-14T08:49:45.754Z"
   },
   {
    "duration": 743,
    "start_time": "2023-05-14T08:49:48.328Z"
   },
   {
    "duration": 17916,
    "start_time": "2023-05-14T08:49:49.074Z"
   },
   {
    "duration": 13790,
    "start_time": "2023-05-14T08:50:06.993Z"
   },
   {
    "duration": 327,
    "start_time": "2023-05-14T08:50:20.785Z"
   },
   {
    "duration": 15673,
    "start_time": "2023-05-14T08:50:21.114Z"
   },
   {
    "duration": 83,
    "start_time": "2023-05-14T08:50:36.789Z"
   },
   {
    "duration": 6933,
    "start_time": "2023-05-14T08:50:36.873Z"
   },
   {
    "duration": 6603,
    "start_time": "2023-05-14T08:50:43.872Z"
   },
   {
    "duration": 87324,
    "start_time": "2023-05-14T08:50:50.478Z"
   },
   {
    "duration": 6,
    "start_time": "2023-05-14T08:52:17.804Z"
   },
   {
    "duration": 120,
    "start_time": "2023-05-14T08:54:45.513Z"
   },
   {
    "duration": 2797,
    "start_time": "2023-05-20T08:07:56.480Z"
   },
   {
    "duration": 739,
    "start_time": "2023-05-20T08:07:59.279Z"
   },
   {
    "duration": 14322,
    "start_time": "2023-05-20T08:08:00.019Z"
   },
   {
    "duration": 8875,
    "start_time": "2023-05-20T08:08:14.343Z"
   },
   {
    "duration": 943,
    "start_time": "2023-05-20T08:08:26.267Z"
   },
   {
    "duration": 1809,
    "start_time": "2023-05-20T08:17:01.691Z"
   },
   {
    "duration": 622,
    "start_time": "2023-05-20T08:17:03.502Z"
   },
   {
    "duration": 14114,
    "start_time": "2023-05-20T08:17:04.891Z"
   },
   {
    "duration": 7612,
    "start_time": "2023-05-20T08:17:19.007Z"
   },
   {
    "duration": 0,
    "start_time": "2023-05-20T08:17:26.620Z"
   },
   {
    "duration": 798,
    "start_time": "2023-05-20T08:17:37.386Z"
   },
   {
    "duration": 2339,
    "start_time": "2023-05-20T08:17:52.350Z"
   },
   {
    "duration": 1139,
    "start_time": "2023-05-20T08:18:13.763Z"
   },
   {
    "duration": 170,
    "start_time": "2023-05-20T08:18:16.778Z"
   },
   {
    "duration": 10055,
    "start_time": "2023-05-20T08:18:18.060Z"
   },
   {
    "duration": 79,
    "start_time": "2023-05-20T08:18:28.116Z"
   },
   {
    "duration": 4317,
    "start_time": "2023-05-20T08:18:50.283Z"
   },
   {
    "duration": 4029,
    "start_time": "2023-05-20T08:18:58.457Z"
   },
   {
    "duration": 52792,
    "start_time": "2023-05-20T08:19:04.724Z"
   }
  ],
  "colab": {
   "name": "PySparkSprint.ipynb",
   "provenance": []
  },
  "kernelspec": {
   "display_name": "Python 3 (ipykernel)",
   "language": "python",
   "name": "python3"
  },
  "language_info": {
   "codemirror_mode": {
    "name": "ipython",
    "version": 3
   },
   "file_extension": ".py",
   "mimetype": "text/x-python",
   "name": "python",
   "nbconvert_exporter": "python",
   "pygments_lexer": "ipython3",
   "version": "3.9.5"
  },
  "toc": {
   "base_numbering": 1,
   "nav_menu": {},
   "number_sections": true,
   "sideBar": true,
   "skip_h1_title": true,
   "title_cell": "Table of Contents",
   "title_sidebar": "Contents",
   "toc_cell": false,
   "toc_position": {},
   "toc_section_display": true,
   "toc_window_display": false
  }
 },
 "nbformat": 4,
 "nbformat_minor": 5
}
